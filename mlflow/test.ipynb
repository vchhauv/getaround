{
 "cells": [
  {
   "cell_type": "code",
   "execution_count": 6,
   "metadata": {},
   "outputs": [],
   "source": [
    "import pandas as pd\n",
    "import json\n",
    "import requests"
   ]
  },
  {
   "cell_type": "code",
   "execution_count": 7,
   "metadata": {},
   "outputs": [
    {
     "name": "stdout",
     "output_type": "stream",
     "text": [
      "{'prediction': 101.37363248071136}\n"
     ]
    }
   ],
   "source": [
    "df = pd.read_csv(\"get_around_pricing_project.csv\", index_col=0)\n",
    "df = df.sample(1)\n",
    "values = []\n",
    "for element in df.iloc[0,:].values.tolist():\n",
    "    if type(element) != str:\n",
    "        values.append(element.item())\n",
    "    else:\n",
    "        values.append(element)\n",
    "\n",
    "df_dict = {key:value for key, value in zip(df.columns, values)}\n",
    "\n",
    "r = requests.post(\"https://api-getaround-project-06b8b8b5d872.herokuapp.com/predict\",data=json.dumps(df_dict))\n",
    "\n",
    "response = r.json()\n",
    "print(response)"
   ]
  }
 ],
 "metadata": {
  "kernelspec": {
   "display_name": "Python 3",
   "language": "python",
   "name": "python3"
  },
  "language_info": {
   "codemirror_mode": {
    "name": "ipython",
    "version": 3
   },
   "file_extension": ".py",
   "mimetype": "text/x-python",
   "name": "python",
   "nbconvert_exporter": "python",
   "pygments_lexer": "ipython3",
   "version": "3.10.6"
  },
  "orig_nbformat": 4
 },
 "nbformat": 4,
 "nbformat_minor": 2
}
